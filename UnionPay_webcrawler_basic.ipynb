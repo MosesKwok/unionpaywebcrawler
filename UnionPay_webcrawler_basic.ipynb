{
  "nbformat": 4,
  "nbformat_minor": 0,
  "metadata": {
    "colab": {
      "name": "webcrawler(銀聯匯率).ipynb",
      "provenance": [],
      "collapsed_sections": [],
      "toc_visible": true
    },
    "kernelspec": {
      "name": "python3",
      "display_name": "Python 3"
    }
  },
  "cells": [
    {
      "cell_type": "code",
      "metadata": {
        "id": "Eu149CHC1qBr",
        "colab_type": "code",
        "colab": {}
      },
      "source": [
        "#!apt install chromium-chromedriver"
      ],
      "execution_count": 0,
      "outputs": []
    },
    {
      "cell_type": "code",
      "metadata": {
        "id": "-TaP0guGz_1C",
        "colab_type": "code",
        "colab": {}
      },
      "source": [
        "#!pip install selenium"
      ],
      "execution_count": 0,
      "outputs": []
    },
    {
      "cell_type": "code",
      "metadata": {
        "id": "FWM5ZA1OkHP_",
        "colab_type": "code",
        "colab": {}
      },
      "source": [
        "from selenium import webdriver\n",
        "from selenium.webdriver.common.keys import Keys\n",
        "from selenium.webdriver.common.by import By\n",
        "import time\n",
        "import datetime"
      ],
      "execution_count": 0,
      "outputs": []
    },
    {
      "cell_type": "code",
      "metadata": {
        "id": "F1yauCbHkPdQ",
        "colab_type": "code",
        "colab": {}
      },
      "source": [
        "url = 'https://www.unionpayintl.com/cardholderServ/serviceCenter/rate?language=hk'\n",
        "options = webdriver.ChromeOptions()\n",
        "options.add_argument('--headless')\n",
        "options.add_argument('--no-sandbox')\n",
        "options.add_argument('--disable-dev-shm-usage')"
      ],
      "execution_count": 0,
      "outputs": []
    },
    {
      "cell_type": "code",
      "metadata": {
        "id": "NvmZ9BuMkSjR",
        "colab_type": "code",
        "colab": {}
      },
      "source": [
        "driver = webdriver.Chrome('chromedriver',options=options)\n",
        "driver.get(url)"
      ],
      "execution_count": 0,
      "outputs": []
    },
    {
      "cell_type": "code",
      "metadata": {
        "id": "zTs0Kh1T2trA",
        "colab_type": "code",
        "colab": {}
      },
      "source": [
        "driver.find_element(By.CSS_SELECTOR, \".fixed:nth-child(2) > .select\").click()\n",
        "driver.find_element(By.LINK_TEXT, \"HKD, Hong Kong Dollar\").click()"
      ],
      "execution_count": 0,
      "outputs": []
    },
    {
      "cell_type": "code",
      "metadata": {
        "colab_type": "code",
        "id": "G3bz104OWsWk",
        "colab": {}
      },
      "source": [
        "driver.find_element(By.CSS_SELECTOR, \".fixed:nth-child(3) > .select\").click()\n",
        "driver.find_element(By.LINK_TEXT, \"TWD, New Taiwan Dollar\").click()"
      ],
      "execution_count": 0,
      "outputs": []
    },
    {
      "cell_type": "code",
      "metadata": {
        "id": "4UfGczII2in5",
        "colab_type": "code",
        "colab": {}
      },
      "source": [
        "#2013-09-10 is the first date that have data\n",
        "oneday = datetime.timedelta(days = 1)\n",
        "date = datetime.date(2013,9,10)\n",
        "\n",
        "resultdate = date + oneday\n",
        "driver.find_element(By.ID, \"d4311\").click()\n",
        "for i in range(15):\n",
        "  driver.find_element(By.ID, \"d4311\").send_keys(Keys.BACK_SPACE)\n",
        "datestring = resultdate.strftime(\"%Y-%m-%d\")\n",
        "driver.find_element(By.ID, \"d4311\").send_keys(datestring)"
      ],
      "execution_count": 0,
      "outputs": []
    },
    {
      "cell_type": "code",
      "metadata": {
        "id": "-UHdo_HRdxo0",
        "colab_type": "code",
        "colab": {}
      },
      "source": [
        "driver.find_element(By.LINK_TEXT, \"査詢\").click()"
      ],
      "execution_count": 0,
      "outputs": []
    },
    {
      "cell_type": "code",
      "metadata": {
        "colab_type": "code",
        "outputId": "92955e33-420d-47f6-b1ca-a1f2bee1829f",
        "id": "83J8ZGBnWtAa",
        "colab": {
          "base_uri": "https://localhost:8080/",
          "height": 34
        }
      },
      "source": [
        "time.sleep(3)\n",
        "driver.find_element(By.ID, \"resultDiv\").text"
      ],
      "execution_count": 0,
      "outputs": [
        {
          "output_type": "execute_result",
          "data": {
            "text/plain": [
              "'您查詢的匯率結果為：1TWD = 0.2613 HKD'"
            ]
          },
          "metadata": {
            "tags": []
          },
          "execution_count": 137
        }
      ]
    },
    {
      "cell_type": "code",
      "metadata": {
        "colab_type": "code",
        "id": "ew28Im_vWsmK",
        "colab": {}
      },
      "source": [
        ""
      ],
      "execution_count": 0,
      "outputs": []
    }
  ]
}